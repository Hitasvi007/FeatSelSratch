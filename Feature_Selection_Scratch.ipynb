{
  "nbformat": 4,
  "nbformat_minor": 0,
  "metadata": {
    "colab": {
      "provenance": []
    },
    "kernelspec": {
      "name": "python3",
      "display_name": "Python 3"
    },
    "language_info": {
      "name": "python"
    }
  },
  "cells": [
    {
      "cell_type": "code",
      "execution_count": null,
      "metadata": {
        "colab": {
          "base_uri": "https://localhost:8080/",
          "height": 206
        },
        "id": "rIe2hsJTAeDn",
        "outputId": "d17444af-5946-403e-c5e6-e6f7c38173fc"
      },
      "outputs": [
        {
          "output_type": "execute_result",
          "data": {
            "text/plain": [
              "   Feature_1  Feature_2  Feature_3  Feature_4  Feature_5  Feature_6  \\\n",
              "0   0.374540   0.950714   0.731994   0.598658   0.156019   0.155995   \n",
              "1   0.020584   0.969910   0.832443   0.212339   0.181825   0.183405   \n",
              "2   0.611853   0.139494   0.292145   0.366362   0.456070   0.785176   \n",
              "3   0.607545   0.170524   0.065052   0.948886   0.965632   0.808397   \n",
              "4   0.122038   0.495177   0.034389   0.909320   0.258780   0.662522   \n",
              "\n",
              "   Feature_7  Feature_8  Feature_9  Feature_10  Target  \n",
              "0   0.058084   0.866176   0.601115    0.708073       0  \n",
              "1   0.304242   0.524756   0.431945    0.291229       1  \n",
              "2   0.199674   0.514234   0.592415    0.046450       1  \n",
              "3   0.304614   0.097672   0.684233    0.440152       1  \n",
              "4   0.311711   0.520068   0.546710    0.184854       1  "
            ],
            "text/html": [
              "\n",
              "  <div id=\"df-ff8e9f43-9926-438c-95c5-22c6a94d80b2\" class=\"colab-df-container\">\n",
              "    <div>\n",
              "<style scoped>\n",
              "    .dataframe tbody tr th:only-of-type {\n",
              "        vertical-align: middle;\n",
              "    }\n",
              "\n",
              "    .dataframe tbody tr th {\n",
              "        vertical-align: top;\n",
              "    }\n",
              "\n",
              "    .dataframe thead th {\n",
              "        text-align: right;\n",
              "    }\n",
              "</style>\n",
              "<table border=\"1\" class=\"dataframe\">\n",
              "  <thead>\n",
              "    <tr style=\"text-align: right;\">\n",
              "      <th></th>\n",
              "      <th>Feature_1</th>\n",
              "      <th>Feature_2</th>\n",
              "      <th>Feature_3</th>\n",
              "      <th>Feature_4</th>\n",
              "      <th>Feature_5</th>\n",
              "      <th>Feature_6</th>\n",
              "      <th>Feature_7</th>\n",
              "      <th>Feature_8</th>\n",
              "      <th>Feature_9</th>\n",
              "      <th>Feature_10</th>\n",
              "      <th>Target</th>\n",
              "    </tr>\n",
              "  </thead>\n",
              "  <tbody>\n",
              "    <tr>\n",
              "      <th>0</th>\n",
              "      <td>0.374540</td>\n",
              "      <td>0.950714</td>\n",
              "      <td>0.731994</td>\n",
              "      <td>0.598658</td>\n",
              "      <td>0.156019</td>\n",
              "      <td>0.155995</td>\n",
              "      <td>0.058084</td>\n",
              "      <td>0.866176</td>\n",
              "      <td>0.601115</td>\n",
              "      <td>0.708073</td>\n",
              "      <td>0</td>\n",
              "    </tr>\n",
              "    <tr>\n",
              "      <th>1</th>\n",
              "      <td>0.020584</td>\n",
              "      <td>0.969910</td>\n",
              "      <td>0.832443</td>\n",
              "      <td>0.212339</td>\n",
              "      <td>0.181825</td>\n",
              "      <td>0.183405</td>\n",
              "      <td>0.304242</td>\n",
              "      <td>0.524756</td>\n",
              "      <td>0.431945</td>\n",
              "      <td>0.291229</td>\n",
              "      <td>1</td>\n",
              "    </tr>\n",
              "    <tr>\n",
              "      <th>2</th>\n",
              "      <td>0.611853</td>\n",
              "      <td>0.139494</td>\n",
              "      <td>0.292145</td>\n",
              "      <td>0.366362</td>\n",
              "      <td>0.456070</td>\n",
              "      <td>0.785176</td>\n",
              "      <td>0.199674</td>\n",
              "      <td>0.514234</td>\n",
              "      <td>0.592415</td>\n",
              "      <td>0.046450</td>\n",
              "      <td>1</td>\n",
              "    </tr>\n",
              "    <tr>\n",
              "      <th>3</th>\n",
              "      <td>0.607545</td>\n",
              "      <td>0.170524</td>\n",
              "      <td>0.065052</td>\n",
              "      <td>0.948886</td>\n",
              "      <td>0.965632</td>\n",
              "      <td>0.808397</td>\n",
              "      <td>0.304614</td>\n",
              "      <td>0.097672</td>\n",
              "      <td>0.684233</td>\n",
              "      <td>0.440152</td>\n",
              "      <td>1</td>\n",
              "    </tr>\n",
              "    <tr>\n",
              "      <th>4</th>\n",
              "      <td>0.122038</td>\n",
              "      <td>0.495177</td>\n",
              "      <td>0.034389</td>\n",
              "      <td>0.909320</td>\n",
              "      <td>0.258780</td>\n",
              "      <td>0.662522</td>\n",
              "      <td>0.311711</td>\n",
              "      <td>0.520068</td>\n",
              "      <td>0.546710</td>\n",
              "      <td>0.184854</td>\n",
              "      <td>1</td>\n",
              "    </tr>\n",
              "  </tbody>\n",
              "</table>\n",
              "</div>\n",
              "    <div class=\"colab-df-buttons\">\n",
              "\n",
              "  <div class=\"colab-df-container\">\n",
              "    <button class=\"colab-df-convert\" onclick=\"convertToInteractive('df-ff8e9f43-9926-438c-95c5-22c6a94d80b2')\"\n",
              "            title=\"Convert this dataframe to an interactive table.\"\n",
              "            style=\"display:none;\">\n",
              "\n",
              "  <svg xmlns=\"http://www.w3.org/2000/svg\" height=\"24px\" viewBox=\"0 -960 960 960\">\n",
              "    <path d=\"M120-120v-720h720v720H120Zm60-500h600v-160H180v160Zm220 220h160v-160H400v160Zm0 220h160v-160H400v160ZM180-400h160v-160H180v160Zm440 0h160v-160H620v160ZM180-180h160v-160H180v160Zm440 0h160v-160H620v160Z\"/>\n",
              "  </svg>\n",
              "    </button>\n",
              "\n",
              "  <style>\n",
              "    .colab-df-container {\n",
              "      display:flex;\n",
              "      gap: 12px;\n",
              "    }\n",
              "\n",
              "    .colab-df-convert {\n",
              "      background-color: #E8F0FE;\n",
              "      border: none;\n",
              "      border-radius: 50%;\n",
              "      cursor: pointer;\n",
              "      display: none;\n",
              "      fill: #1967D2;\n",
              "      height: 32px;\n",
              "      padding: 0 0 0 0;\n",
              "      width: 32px;\n",
              "    }\n",
              "\n",
              "    .colab-df-convert:hover {\n",
              "      background-color: #E2EBFA;\n",
              "      box-shadow: 0px 1px 2px rgba(60, 64, 67, 0.3), 0px 1px 3px 1px rgba(60, 64, 67, 0.15);\n",
              "      fill: #174EA6;\n",
              "    }\n",
              "\n",
              "    .colab-df-buttons div {\n",
              "      margin-bottom: 4px;\n",
              "    }\n",
              "\n",
              "    [theme=dark] .colab-df-convert {\n",
              "      background-color: #3B4455;\n",
              "      fill: #D2E3FC;\n",
              "    }\n",
              "\n",
              "    [theme=dark] .colab-df-convert:hover {\n",
              "      background-color: #434B5C;\n",
              "      box-shadow: 0px 1px 3px 1px rgba(0, 0, 0, 0.15);\n",
              "      filter: drop-shadow(0px 1px 2px rgba(0, 0, 0, 0.3));\n",
              "      fill: #FFFFFF;\n",
              "    }\n",
              "  </style>\n",
              "\n",
              "    <script>\n",
              "      const buttonEl =\n",
              "        document.querySelector('#df-ff8e9f43-9926-438c-95c5-22c6a94d80b2 button.colab-df-convert');\n",
              "      buttonEl.style.display =\n",
              "        google.colab.kernel.accessAllowed ? 'block' : 'none';\n",
              "\n",
              "      async function convertToInteractive(key) {\n",
              "        const element = document.querySelector('#df-ff8e9f43-9926-438c-95c5-22c6a94d80b2');\n",
              "        const dataTable =\n",
              "          await google.colab.kernel.invokeFunction('convertToInteractive',\n",
              "                                                    [key], {});\n",
              "        if (!dataTable) return;\n",
              "\n",
              "        const docLinkHtml = 'Like what you see? Visit the ' +\n",
              "          '<a target=\"_blank\" href=https://colab.research.google.com/notebooks/data_table.ipynb>data table notebook</a>'\n",
              "          + ' to learn more about interactive tables.';\n",
              "        element.innerHTML = '';\n",
              "        dataTable['output_type'] = 'display_data';\n",
              "        await google.colab.output.renderOutput(dataTable, element);\n",
              "        const docLink = document.createElement('div');\n",
              "        docLink.innerHTML = docLinkHtml;\n",
              "        element.appendChild(docLink);\n",
              "      }\n",
              "    </script>\n",
              "  </div>\n",
              "\n",
              "\n",
              "<div id=\"df-656cca1d-97eb-4557-868c-9db01b0f023d\">\n",
              "  <button class=\"colab-df-quickchart\" onclick=\"quickchart('df-656cca1d-97eb-4557-868c-9db01b0f023d')\"\n",
              "            title=\"Suggest charts\"\n",
              "            style=\"display:none;\">\n",
              "\n",
              "<svg xmlns=\"http://www.w3.org/2000/svg\" height=\"24px\"viewBox=\"0 0 24 24\"\n",
              "     width=\"24px\">\n",
              "    <g>\n",
              "        <path d=\"M19 3H5c-1.1 0-2 .9-2 2v14c0 1.1.9 2 2 2h14c1.1 0 2-.9 2-2V5c0-1.1-.9-2-2-2zM9 17H7v-7h2v7zm4 0h-2V7h2v10zm4 0h-2v-4h2v4z\"/>\n",
              "    </g>\n",
              "</svg>\n",
              "  </button>\n",
              "\n",
              "<style>\n",
              "  .colab-df-quickchart {\n",
              "      --bg-color: #E8F0FE;\n",
              "      --fill-color: #1967D2;\n",
              "      --hover-bg-color: #E2EBFA;\n",
              "      --hover-fill-color: #174EA6;\n",
              "      --disabled-fill-color: #AAA;\n",
              "      --disabled-bg-color: #DDD;\n",
              "  }\n",
              "\n",
              "  [theme=dark] .colab-df-quickchart {\n",
              "      --bg-color: #3B4455;\n",
              "      --fill-color: #D2E3FC;\n",
              "      --hover-bg-color: #434B5C;\n",
              "      --hover-fill-color: #FFFFFF;\n",
              "      --disabled-bg-color: #3B4455;\n",
              "      --disabled-fill-color: #666;\n",
              "  }\n",
              "\n",
              "  .colab-df-quickchart {\n",
              "    background-color: var(--bg-color);\n",
              "    border: none;\n",
              "    border-radius: 50%;\n",
              "    cursor: pointer;\n",
              "    display: none;\n",
              "    fill: var(--fill-color);\n",
              "    height: 32px;\n",
              "    padding: 0;\n",
              "    width: 32px;\n",
              "  }\n",
              "\n",
              "  .colab-df-quickchart:hover {\n",
              "    background-color: var(--hover-bg-color);\n",
              "    box-shadow: 0 1px 2px rgba(60, 64, 67, 0.3), 0 1px 3px 1px rgba(60, 64, 67, 0.15);\n",
              "    fill: var(--button-hover-fill-color);\n",
              "  }\n",
              "\n",
              "  .colab-df-quickchart-complete:disabled,\n",
              "  .colab-df-quickchart-complete:disabled:hover {\n",
              "    background-color: var(--disabled-bg-color);\n",
              "    fill: var(--disabled-fill-color);\n",
              "    box-shadow: none;\n",
              "  }\n",
              "\n",
              "  .colab-df-spinner {\n",
              "    border: 2px solid var(--fill-color);\n",
              "    border-color: transparent;\n",
              "    border-bottom-color: var(--fill-color);\n",
              "    animation:\n",
              "      spin 1s steps(1) infinite;\n",
              "  }\n",
              "\n",
              "  @keyframes spin {\n",
              "    0% {\n",
              "      border-color: transparent;\n",
              "      border-bottom-color: var(--fill-color);\n",
              "      border-left-color: var(--fill-color);\n",
              "    }\n",
              "    20% {\n",
              "      border-color: transparent;\n",
              "      border-left-color: var(--fill-color);\n",
              "      border-top-color: var(--fill-color);\n",
              "    }\n",
              "    30% {\n",
              "      border-color: transparent;\n",
              "      border-left-color: var(--fill-color);\n",
              "      border-top-color: var(--fill-color);\n",
              "      border-right-color: var(--fill-color);\n",
              "    }\n",
              "    40% {\n",
              "      border-color: transparent;\n",
              "      border-right-color: var(--fill-color);\n",
              "      border-top-color: var(--fill-color);\n",
              "    }\n",
              "    60% {\n",
              "      border-color: transparent;\n",
              "      border-right-color: var(--fill-color);\n",
              "    }\n",
              "    80% {\n",
              "      border-color: transparent;\n",
              "      border-right-color: var(--fill-color);\n",
              "      border-bottom-color: var(--fill-color);\n",
              "    }\n",
              "    90% {\n",
              "      border-color: transparent;\n",
              "      border-bottom-color: var(--fill-color);\n",
              "    }\n",
              "  }\n",
              "</style>\n",
              "\n",
              "  <script>\n",
              "    async function quickchart(key) {\n",
              "      const quickchartButtonEl =\n",
              "        document.querySelector('#' + key + ' button');\n",
              "      quickchartButtonEl.disabled = true;  // To prevent multiple clicks.\n",
              "      quickchartButtonEl.classList.add('colab-df-spinner');\n",
              "      try {\n",
              "        const charts = await google.colab.kernel.invokeFunction(\n",
              "            'suggestCharts', [key], {});\n",
              "      } catch (error) {\n",
              "        console.error('Error during call to suggestCharts:', error);\n",
              "      }\n",
              "      quickchartButtonEl.classList.remove('colab-df-spinner');\n",
              "      quickchartButtonEl.classList.add('colab-df-quickchart-complete');\n",
              "    }\n",
              "    (() => {\n",
              "      let quickchartButtonEl =\n",
              "        document.querySelector('#df-656cca1d-97eb-4557-868c-9db01b0f023d button');\n",
              "      quickchartButtonEl.style.display =\n",
              "        google.colab.kernel.accessAllowed ? 'block' : 'none';\n",
              "    })();\n",
              "  </script>\n",
              "</div>\n",
              "\n",
              "    </div>\n",
              "  </div>\n"
            ],
            "application/vnd.google.colaboratory.intrinsic+json": {
              "type": "dataframe",
              "variable_name": "df",
              "summary": "{\n  \"name\": \"df\",\n  \"rows\": 100,\n  \"fields\": [\n    {\n      \"column\": \"Feature_1\",\n      \"properties\": {\n        \"dtype\": \"number\",\n        \"std\": 0.30053452068422215,\n        \"min\": 0.012154474689816341,\n        \"max\": 0.9905051420006733,\n        \"num_unique_values\": 100,\n        \"samples\": [\n          0.22460482293998196,\n          0.8129010091300776,\n          0.5325894325515859\n        ],\n        \"semantic_type\": \"\",\n        \"description\": \"\"\n      }\n    },\n    {\n      \"column\": \"Feature_2\",\n      \"properties\": {\n        \"dtype\": \"number\",\n        \"std\": 0.29198450945797894,\n        \"min\": 0.004632023004602859,\n        \"max\": 0.9997176732861306,\n        \"num_unique_values\": 100,\n        \"samples\": [\n          0.4524395161326934,\n          0.9997176732861306,\n          0.05182353682242691\n        ],\n        \"semantic_type\": \"\",\n        \"description\": \"\"\n      }\n    },\n    {\n      \"column\": \"Feature_3\",\n      \"properties\": {\n        \"dtype\": \"number\",\n        \"std\": 0.2908847858855363,\n        \"min\": 0.005522117123602399,\n        \"max\": 0.9966368370739054,\n        \"num_unique_values\": 100,\n        \"samples\": [\n          0.14085702037979986,\n          0.9966368370739054,\n          0.3366042781939206\n        ],\n        \"semantic_type\": \"\",\n        \"description\": \"\"\n      }\n    },\n    {\n      \"column\": \"Feature_4\",\n      \"properties\": {\n        \"dtype\": \"number\",\n        \"std\": 0.262427793391299,\n        \"min\": 0.014544665667881929,\n        \"max\": 0.9626484146779251,\n        \"num_unique_values\": 100,\n        \"samples\": [\n          0.1763869865062233,\n          0.5554317056026274,\n          0.13441467693897424\n        ],\n        \"semantic_type\": \"\",\n        \"description\": \"\"\n      }\n    },\n    {\n      \"column\": \"Feature_5\",\n      \"properties\": {\n        \"dtype\": \"number\",\n        \"std\": 0.2978310714528909,\n        \"min\": 0.015456616528867428,\n        \"max\": 0.9856504541106007,\n        \"num_unique_values\": 100,\n        \"samples\": [\n          0.49836777273947974,\n          0.7689874151805105,\n          0.06337497047276774\n        ],\n        \"semantic_type\": \"\",\n        \"description\": \"\"\n      }\n    },\n    {\n      \"column\": \"Feature_6\",\n      \"properties\": {\n        \"dtype\": \"number\",\n        \"std\": 0.29604402697123733,\n        \"min\": 0.009197051616629648,\n        \"max\": 0.9929647961193003,\n        \"num_unique_values\": 100,\n        \"samples\": [\n          0.4189254495045479,\n          0.944765729882428,\n          0.9899602323899452\n        ],\n        \"semantic_type\": \"\",\n        \"description\": \"\"\n      }\n    },\n    {\n      \"column\": \"Feature_7\",\n      \"properties\": {\n        \"dtype\": \"number\",\n        \"std\": 0.2865711018799599,\n        \"min\": 0.011353644767419069,\n        \"max\": 0.9860010638228709,\n        \"num_unique_values\": 100,\n        \"samples\": [\n          0.9148459010681,\n          0.8496473906774115,\n          0.32235384497472297\n        ],\n        \"semantic_type\": \"\",\n        \"description\": \"\"\n      }\n    },\n    {\n      \"column\": \"Feature_8\",\n      \"properties\": {\n        \"dtype\": \"number\",\n        \"std\": 0.2851924651047125,\n        \"min\": 0.01083765148029836,\n        \"max\": 0.9968742518459474,\n        \"num_unique_values\": 100,\n        \"samples\": [\n          0.3623938991166331,\n          0.24734810174319766,\n          0.8098744458546349\n        ],\n        \"semantic_type\": \"\",\n        \"description\": \"\"\n      }\n    },\n    {\n      \"column\": \"Feature_9\",\n      \"properties\": {\n        \"dtype\": \"number\",\n        \"std\": 0.3099217142188327,\n        \"min\": 0.005061583846218687,\n        \"max\": 0.9872761293149445,\n        \"num_unique_values\": 100,\n        \"samples\": [\n          0.5805883502780435,\n          0.4505441353100935,\n          0.25464065476376385\n        ],\n        \"semantic_type\": \"\",\n        \"description\": \"\"\n      }\n    },\n    {\n      \"column\": \"Feature_10\",\n      \"properties\": {\n        \"dtype\": \"number\",\n        \"std\": 0.28957557722074356,\n        \"min\": 0.04086861626647886,\n        \"max\": 0.9868869366005173,\n        \"num_unique_values\": 100,\n        \"samples\": [\n          0.6322642879195304,\n          0.12915941515149498,\n          0.6815027222239293\n        ],\n        \"semantic_type\": \"\",\n        \"description\": \"\"\n      }\n    },\n    {\n      \"column\": \"Target\",\n      \"properties\": {\n        \"dtype\": \"number\",\n        \"std\": 0,\n        \"min\": 0,\n        \"max\": 1,\n        \"num_unique_values\": 2,\n        \"samples\": [\n          1,\n          0\n        ],\n        \"semantic_type\": \"\",\n        \"description\": \"\"\n      }\n    }\n  ]\n}"
            }
          },
          "metadata": {},
          "execution_count": 2
        }
      ],
      "source": [
        "import numpy as np\n",
        "import pandas as pd\n",
        "\n",
        "np.random.seed(42)\n",
        "\n",
        "X = np.random.rand(100, 10)\n",
        "y = np.random.choice([0, 1], size=100)\n",
        "\n",
        "df = pd.DataFrame(X, columns=[f'Feature_{i+1}' for i in range(X.shape[1])])\n",
        "df['Target'] = y\n",
        "\n",
        "df.head()\n"
      ]
    },
    {
      "cell_type": "code",
      "source": [
        "def chi2_feature_selection(X, y, k=5):\n",
        "    chi2_scores = []\n",
        "\n",
        "    for i in range(X.shape[1]):\n",
        "        feature = X[:, i]\n",
        "        observed = np.array([[(feature[y == 0] <= t).sum(), (feature[y == 1] <= t).sum()]\n",
        "                             for t in np.unique(feature)])\n",
        "        expected = np.outer(observed.sum(axis=1), observed.sum(axis=0)) / observed.sum()\n",
        "        chi2 = ((observed - expected) ** 2 / expected).sum()\n",
        "        chi2_scores.append(chi2)\n",
        "\n",
        "    chi2_scores = np.array(chi2_scores)\n",
        "    top_k_indices = np.argsort(chi2_scores)[-k:]\n",
        "    return top_k_indices, chi2_scores[top_k_indices]\n",
        "\n",
        "X_np = df.drop(columns='Target').values\n",
        "y_np = df['Target'].values\n",
        "\n",
        "selected_indices_chi2, chi2_scores = chi2_feature_selection(X_np, y_np, k=5)\n",
        "selected_features_chi2 = df.columns[selected_indices_chi2]\n",
        "\n",
        "selected_features_chi2, chi2_scores\n"
      ],
      "metadata": {
        "colab": {
          "base_uri": "https://localhost:8080/"
        },
        "id": "jBTtadCsCUf3",
        "outputId": "e8d14ea7-12a8-4fc3-afb8-0b0f1716f4e3"
      },
      "execution_count": null,
      "outputs": [
        {
          "output_type": "execute_result",
          "data": {
            "text/plain": [
              "(Index(['Feature_6', 'Feature_7', 'Feature_9', 'Feature_4', 'Feature_8'], dtype='object'),\n",
              " array([22.88567457, 25.75036032, 29.89691302, 56.64913838, 65.7854674 ]))"
            ]
          },
          "metadata": {},
          "execution_count": 3
        }
      ]
    },
    {
      "cell_type": "code",
      "source": [
        "print(\"Top 5 features selected by Chi-Squared:\", selected_features_chi2)\n",
        "print(\"Chi-Squared scores for these features:\", chi2_scores)"
      ],
      "metadata": {
        "colab": {
          "base_uri": "https://localhost:8080/"
        },
        "id": "izuP0DPSCbjj",
        "outputId": "3a2dbb72-46d3-4d5e-a429-fad9cdd9a685"
      },
      "execution_count": null,
      "outputs": [
        {
          "output_type": "stream",
          "name": "stdout",
          "text": [
            "Top 5 features selected by Chi-Squared: Index(['Feature_6', 'Feature_7', 'Feature_9', 'Feature_4', 'Feature_8'], dtype='object')\n",
            "Chi-Squared scores for these features: [22.88567457 25.75036032 29.89691302 56.64913838 65.7854674 ]\n"
          ]
        }
      ]
    },
    {
      "cell_type": "code",
      "source": [
        "from sklearn.datasets import make_classification\n",
        "from sklearn.feature_selection import RFE\n",
        "from sklearn.linear_model import LogisticRegression\n",
        "import matplotlib.pyplot as plt\n",
        "model = LogisticRegression()\n",
        "\n",
        "rfe = RFE(model, n_features_to_select=5)\n",
        "\n",
        "rfe = rfe.fit(X, y)\n",
        "\n",
        "ranking = rfe.ranking_\n",
        "\n",
        "selected_features_rfe = df.columns[np.where(ranking == 1)]\n",
        "\n",
        "print(\"Selected features by RFE:\", selected_features_rfe)\n"
      ],
      "metadata": {
        "colab": {
          "base_uri": "https://localhost:8080/"
        },
        "id": "Cn5g4vIXEuyf",
        "outputId": "c61d0907-8082-493d-d9a2-20e6dcd9cdfa"
      },
      "execution_count": null,
      "outputs": [
        {
          "output_type": "stream",
          "name": "stdout",
          "text": [
            "Selected features by RFE: Index(['Feature_4', 'Feature_5', 'Feature_6', 'Feature_7', 'Feature_9'], dtype='object')\n"
          ]
        }
      ]
    },
    {
      "cell_type": "code",
      "source": [
        "plt.figure(figsize=(12, 6))\n",
        "plt.bar(range(X.shape[1]), ranking, color='blue', alpha=0.6)\n",
        "plt.xticks(range(X.shape[1]), df.columns[:-1], rotation=45)\n",
        "plt.xlabel('Features')\n",
        "plt.ylabel('Ranking')\n",
        "plt.title('Feature Ranking by RFE')\n",
        "plt.show()\n"
      ],
      "metadata": {
        "colab": {
          "base_uri": "https://localhost:8080/",
          "height": 615
        },
        "id": "WFj2QNOlF3OU",
        "outputId": "fd0bb286-0ac1-4c2a-bab7-9cda151932b3"
      },
      "execution_count": null,
      "outputs": [
        {
          "output_type": "display_data",
          "data": {
            "text/plain": [
              "<Figure size 1200x600 with 1 Axes>"
            ],
            "image/png": "[encoded data removed]"
          },
          "metadata": {}
        }
      ]
    },
    {
      "cell_type": "code",
      "source": [
        "from sklearn.model_selection import train_test_split\n",
        "from sklearn.linear_model import LogisticRegression\n",
        "from sklearn.feature_selection import RFE\n",
        "from sklearn.metrics import accuracy_score\n",
        "# Split the data into train and test sets\n",
        "X_train, X_test, y_train, y_test = train_test_split(X, y, test_size=0.3, random_state=42)\n",
        "# Train Logistic Regression on all features\n",
        "model_original = LogisticRegression(max_iter=1000, random_state=42)\n",
        "model_original.fit(X_train, y_train)\n",
        "\n",
        "# Predict and evaluate\n",
        "y_pred_original = model_original.predict(X_test)\n",
        "accuracy_original = accuracy_score(y_test, y_pred_original)\n",
        "\n",
        "print(f\"Accuracy with all features: {accuracy_original:.4f}\")\n"
      ],
      "metadata": {
        "colab": {
          "base_uri": "https://localhost:8080/"
        },
        "id": "nRMzNOm99osz",
        "outputId": "6720e6fd-d056-49fc-d532-b186983513e7"
      },
      "execution_count": null,
      "outputs": [
        {
          "output_type": "stream",
          "name": "stdout",
          "text": [
            "Accuracy with all features: 0.5000\n"
          ]
        }
      ]
    },
    {
      "cell_type": "code",
      "source": [
        "# Apply Recursive Feature Elimination (RFE) with Logistic Regression\n",
        "model = LogisticRegression(max_iter=1000, random_state=42)\n",
        "rfe = RFE(model, n_features_to_select=5)\n",
        "rfe = rfe.fit(X_train, y_train)\n",
        "\n",
        "# Get ranking of the features and selected features\n",
        "ranking = rfe.ranking_\n",
        "selected_features_rfe = np.where(ranking == 1)[0]\n",
        "\n",
        "print(\"Selected features by RFE:\", df.columns[selected_features_rfe])\n",
        "\n",
        "# Reduce the dataset to selected features\n",
        "X_train_reduced = X_train[:, selected_features_rfe]\n",
        "X_test_reduced = X_test[:, selected_features_rfe]\n",
        "# Train Logistic Regression on the reduced feature set (after RFE)\n",
        "model_reduced = LogisticRegression(max_iter=1000, random_state=42)\n",
        "model_reduced.fit(X_train_reduced, y_train)\n",
        "\n",
        "# Predict and evaluate\n",
        "y_pred_reduced = model_reduced.predict(X_test_reduced)\n",
        "accuracy_reduced = accuracy_score(y_test, y_pred_reduced)\n",
        "\n",
        "print(f\"Accuracy with selected features: {accuracy_reduced:.4f}\")\n"
      ],
      "metadata": {
        "colab": {
          "base_uri": "https://localhost:8080/"
        },
        "id": "xzoULzsH9uBq",
        "outputId": "e5406122-2f8a-4efd-bf90-bca3c42f1512"
      },
      "execution_count": null,
      "outputs": [
        {
          "output_type": "stream",
          "name": "stdout",
          "text": [
            "Selected features by RFE: Index(['Feature_3', 'Feature_4', 'Feature_5', 'Feature_6', 'Feature_7'], dtype='object')\n",
            "Accuracy with selected features: 0.5000\n"
          ]
        }
      ]
    },
    {
      "cell_type": "code",
      "source": [
        "# Compare performance with and without feature selection\n",
        "print(f\"Accuracy with all features: {accuracy_original:.4f}\")\n",
        "print(f\"Accuracy with selected features (RFE): {accuracy_reduced:.4f}\")\n"
      ],
      "metadata": {
        "colab": {
          "base_uri": "https://localhost:8080/"
        },
        "id": "t71aQ4jF92Je",
        "outputId": "7c56b9b4-1a5e-49c2-a748-a2d182a762f5"
      },
      "execution_count": null,
      "outputs": [
        {
          "output_type": "stream",
          "name": "stdout",
          "text": [
            "Accuracy with all features: 0.5000\n",
            "Accuracy with selected features (RFE): 0.5000\n"
          ]
        }
      ]
    },
    {
      "cell_type": "code",
      "source": [
        "from sklearn.linear_model import Lasso\n",
        "alpha = 0.01\n",
        "lasso = Lasso(alpha=alpha)\n",
        "\n",
        "lasso.fit(X, y)\n",
        "lasso_coefficients = lasso.coef_\n",
        "selected_features_lasso = df.columns[:-1][np.where(lasso_coefficients != 0)]\n",
        "\n",
        "print(\"Lasso coefficients:\", lasso_coefficients)\n",
        "print(\"Selected features by Lasso:\", selected_features_lasso)\n",
        "\n",
        "plt.figure(figsize=(12, 6))\n",
        "plt.bar(range(len(lasso_coefficients)), lasso_coefficients, color='blue', alpha=0.6)\n",
        "plt.xticks(range(len(lasso_coefficients)), df.columns[:-1], rotation=45)\n",
        "plt.xlabel('Features')\n",
        "plt.ylabel('Coefficient Value')\n",
        "plt.title(f'Lasso Feature Coefficients (alpha={alpha})')\n",
        "plt.show()"
      ],
      "metadata": {
        "colab": {
          "base_uri": "https://localhost:8080/",
          "height": 667
        },
        "id": "FdIToqD7JB2q",
        "outputId": "b32a9f57-932d-4636-f84e-563d123737d8"
      },
      "execution_count": null,
      "outputs": [
        {
          "output_type": "stream",
          "name": "stdout",
          "text": [
            "Lasso coefficients: [ 0.         -0.          0.         -0.09741943  0.02822984 -0.21052161\n",
            "  0.15424302 -0.         -0.05349679  0.        ]\n",
            "Selected features by Lasso: Index(['Feature_4', 'Feature_5', 'Feature_6', 'Feature_7', 'Feature_9'], dtype='object')\n"
          ]
        },
        {
          "output_type": "display_data",
          "data": {
            "text/plain": [
              "<Figure size 1200x600 with 1 Axes>"
            ],
            "image/png": "[encoded data removed]"
          },
          "metadata": {}
        }
      ]
    },
    {
      "cell_type": "code",
      "source": [
        "from sklearn.model_selection import train_test_split\n",
        "from sklearn.linear_model import LogisticRegression, Lasso\n",
        "from sklearn.metrics import accuracy_score\n",
        "import matplotlib.pyplot as plt\n",
        "# Split the data into train and test sets\n",
        "X_train, X_test, y_train, y_test = train_test_split(X, y, test_size=0.3, random_state=42)\n",
        "# Train Logistic Regression on all features\n",
        "model_original = LogisticRegression(max_iter=1000, random_state=42)\n",
        "model_original.fit(X_train, y_train)\n",
        "\n",
        "# Predict and evaluate\n",
        "y_pred_original = model_original.predict(X_test)\n",
        "accuracy_original = accuracy_score(y_test, y_pred_original)\n",
        "\n",
        "print(f\"Accuracy with all features: {accuracy_original:.4f}\")\n"
      ],
      "metadata": {
        "colab": {
          "base_uri": "https://localhost:8080/"
        },
        "id": "3D4UtbXCXKwa",
        "outputId": "5104d0af-f585-4316-9d92-2c82716acc42"
      },
      "execution_count": null,
      "outputs": [
        {
          "output_type": "stream",
          "name": "stdout",
          "text": [
            "Accuracy with all features: 0.5000\n"
          ]
        }
      ]
    },
    {
      "cell_type": "code",
      "source": [
        "# Apply Lasso for feature selection\n",
        "alpha = 0.01\n",
        "lasso = Lasso(alpha=alpha)\n",
        "lasso.fit(X_train, y_train)\n",
        "lasso_coefficients = lasso.coef_\n",
        "\n",
        "# Select features with non-zero coefficients\n",
        "selected_features_lasso = np.where(lasso_coefficients != 0)[0]\n",
        "\n",
        "# Reduce dataset to selected features\n",
        "X_train_reduced = X_train[:, selected_features_lasso]\n",
        "X_test_reduced = X_test[:, selected_features_lasso]\n",
        "\n",
        "print(\"Selected features by Lasso:\", df.columns[selected_features_lasso])\n",
        "\n",
        "\n",
        "# Train Logistic Regression on the reduced feature set (selected by Lasso)\n",
        "model_reduced = LogisticRegression(max_iter=1000, random_state=42)\n",
        "model_reduced.fit(X_train_reduced, y_train)\n",
        "\n",
        "# Predict and evaluate\n",
        "y_pred_reduced = model_reduced.predict(X_test_reduced)\n",
        "accuracy_reduced = accuracy_score(y_test, y_pred_reduced)\n",
        "\n",
        "print(f\"Accuracy with selected features: {accuracy_reduced:.4f}\")\n"
      ],
      "metadata": {
        "colab": {
          "base_uri": "https://localhost:8080/"
        },
        "id": "PCQhBLNIXVli",
        "outputId": "786b0b9b-4119-4282-aabb-19e92e8757a0"
      },
      "execution_count": null,
      "outputs": [
        {
          "output_type": "stream",
          "name": "stdout",
          "text": [
            "Selected features by Lasso: Index(['Feature_3', 'Feature_4', 'Feature_5', 'Feature_6', 'Feature_7'], dtype='object')\n",
            "Accuracy with selected features: 0.5000\n"
          ]
        }
      ]
    },
    {
      "cell_type": "code",
      "source": [
        "print(f\"Accuracy with all features: {accuracy_original:.4f}\")\n",
        "print(f\"Accuracy with selected features: {accuracy_reduced:.4f}\")\n"
      ],
      "metadata": {
        "colab": {
          "base_uri": "https://localhost:8080/"
        },
        "id": "sXIpkwYLXcwE",
        "outputId": "0c5f4942-aeba-4f26-b68a-f211decfdbc7"
      },
      "execution_count": null,
      "outputs": [
        {
          "output_type": "stream",
          "name": "stdout",
          "text": [
            "Accuracy with all features: 0.5000\n",
            "Accuracy with selected features: 0.5000\n"
          ]
        }
      ]
    },
    {
      "cell_type": "code",
      "source": [
        "from sklearn.ensemble import RandomForestClassifier\n",
        "from sklearn.model_selection import train_test_split"
      ],
      "metadata": {
        "id": "nHzLx1luV-5h"
      },
      "execution_count": null,
      "outputs": []
    },
    {
      "cell_type": "code",
      "source": [
        "X_train, X_test, y_train, y_test = train_test_split(X, y, test_size=0.3, random_state=42)\n",
        "\n",
        "# Initialize Random Forest Classifier\n",
        "rf = RandomForestClassifier(n_estimators=100, random_state=42)\n",
        "\n",
        "# Train the model\n",
        "rf.fit(X_train, y_train)\n",
        "\n",
        "# Get feature importances\n",
        "feature_importances = rf.feature_importances_\n",
        "\n",
        "# Rank features by importance\n",
        "feature_ranking = pd.DataFrame({\n",
        "    'Feature': df.columns[:-1],\n",
        "    'Importance': feature_importances\n",
        "}).sort_values(by='Importance', ascending=False)\n",
        "\n",
        "# Display feature ranking\n",
        "print(feature_ranking)\n",
        "\n",
        "# Plot feature importances\n",
        "plt.figure(figsize=(10, 6))\n",
        "plt.barh(feature_ranking['Feature'], feature_ranking['Importance'], color='skyblue')\n",
        "plt.xlabel('Feature Importance')\n",
        "plt.ylabel('Feature')\n",
        "plt.title('Feature Importance from Random Forest')\n",
        "plt.gca().invert_yaxis()\n",
        "plt.show()"
      ],
      "metadata": {
        "colab": {
          "base_uri": "https://localhost:8080/",
          "height": 755
        },
        "id": "ZpPbfSuhWDTk",
        "outputId": "149f1dc6-8f92-4bf1-d328-17e577dcc2b1"
      },
      "execution_count": null,
      "outputs": [
        {
          "output_type": "stream",
          "name": "stdout",
          "text": [
            "      Feature  Importance\n",
            "5   Feature_6    0.143821\n",
            "2   Feature_3    0.138051\n",
            "4   Feature_5    0.108667\n",
            "7   Feature_8    0.097635\n",
            "8   Feature_9    0.097453\n",
            "1   Feature_2    0.095311\n",
            "9  Feature_10    0.094509\n",
            "3   Feature_4    0.079215\n",
            "6   Feature_7    0.073850\n",
            "0   Feature_1    0.071488\n"
          ]
        },
        {
          "output_type": "display_data",
          "data": {
            "text/plain": [
              "<Figure size 1000x600 with 1 Axes>"
            ],
            "image/png": "[encoded data removed]"
          },
          "metadata": {}
        }
      ]
    },
    {
      "cell_type": "code",
      "source": [
        "from sklearn.model_selection import train_test_split\n",
        "from sklearn.ensemble import RandomForestClassifier\n",
        "from sklearn.metrics import accuracy_score\n",
        "# Split the data into train and test sets\n",
        "X_train, X_test, y_train, y_test = train_test_split(X, y, test_size=0.3, random_state=42)\n",
        "# Train Random Forest on the original dataset\n",
        "model_original = RandomForestClassifier(n_estimators=100, random_state=42)\n",
        "model_original.fit(X_train, y_train)\n",
        "\n",
        "# Predict and evaluate\n",
        "y_pred_original = model_original.predict(X_test)\n",
        "accuracy_original = accuracy_score(y_test, y_pred_original)\n",
        "\n",
        "print(f\"Accuracy with all features: {accuracy_original:.4f}\")\n"
      ],
      "metadata": {
        "colab": {
          "base_uri": "https://localhost:8080/"
        },
        "id": "LYdCkwnQWtim",
        "outputId": "51ad5813-3a5c-4389-a651-9e6064ea3f04"
      },
      "execution_count": null,
      "outputs": [
        {
          "output_type": "stream",
          "name": "stdout",
          "text": [
            "Accuracy with all features: 0.3667\n"
          ]
        }
      ]
    },
    {
      "cell_type": "code",
      "source": [
        "# Perform tree-based feature selection (using Random Forest's feature importance)\n",
        "importances = model_original.feature_importances_\n",
        "indices = np.argsort(importances)[::-1]  # Sort features by importance\n",
        "\n",
        "# Select top 5 important features\n",
        "top_features = indices[:5]\n",
        "X_train_reduced = X_train[:, top_features]\n",
        "X_test_reduced = X_test[:, top_features]\n",
        "# Train Random Forest on the reduced feature set\n",
        "model_reduced = RandomForestClassifier(n_estimators=100, random_state=42)\n",
        "model_reduced.fit(X_train_reduced, y_train)\n",
        "\n",
        "# Predict and evaluate\n",
        "y_pred_reduced = model_reduced.predict(X_test_reduced)\n",
        "accuracy_reduced = accuracy_score(y_test, y_pred_reduced)\n",
        "\n",
        "print(f\"Accuracy with selected features: {accuracy_reduced:.4f}\")\n"
      ],
      "metadata": {
        "colab": {
          "base_uri": "https://localhost:8080/"
        },
        "id": "ziWHO0rnW2PD",
        "outputId": "082e4e90-2582-44de-97bf-bf2dba069c37"
      },
      "execution_count": null,
      "outputs": [
        {
          "output_type": "stream",
          "name": "stdout",
          "text": [
            "Accuracy with selected features: 0.3333\n"
          ]
        }
      ]
    },
    {
      "cell_type": "code",
      "source": [
        "print(f\"Accuracy with all features: {accuracy_original:.4f}\")\n",
        "print(f\"Accuracy with selected features: {accuracy_reduced:.4f}\")\n"
      ],
      "metadata": {
        "colab": {
          "base_uri": "https://localhost:8080/"
        },
        "id": "xNLt_z6oW5Lg",
        "outputId": "d3f0ca3d-b1c2-4143-9497-c89b6db250c6"
      },
      "execution_count": null,
      "outputs": [
        {
          "output_type": "stream",
          "name": "stdout",
          "text": [
            "Accuracy with all features: 0.3667\n",
            "Accuracy with selected features: 0.3333\n"
          ]
        }
      ]
    }
  ]
}